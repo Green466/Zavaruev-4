{
 "cells": [
  {
   "cell_type": "code",
   "execution_count": 1,
   "metadata": {},
   "outputs": [
    {
     "name": "stdout",
     "output_type": "stream",
     "text": [
      "purchases:\n",
      "user_id: 'category'\n",
      "1840e0b9d4: 'Продукты'\n"
     ]
    }
   ],
   "source": [
    "import json\n",
    "\n",
    "# Создаем пустой словарь\n",
    "purchases = {}\n",
    "\n",
    "# Открываем файл для чтения\n",
    "with open('purchase_log.txt', 'r', encoding='utf-8') as file:\n",
    "    for line in file:\n",
    "        record = json.loads(line.strip())  # Убираем пробелы и парсим JSON\n",
    "        purchases[record['user_id']] = record['category']  # Заполняем словарь\n",
    "\n",
    "# Выводим первые два элемента словаря\n",
    "print(\"purchases:\")\n",
    "for i, (key, value) in enumerate(purchases.items()):\n",
    "    if i < 2:  # Ограничиваем вывод первыми двумя элементами\n",
    "        print(f\"{key}: '{value}'\")\n",
    "    else:\n",
    "        break"
   ]
  },
  {
   "cell_type": "code",
   "execution_count": 2,
   "metadata": {},
   "outputs": [
    {
     "name": "stdout",
     "output_type": "stream",
     "text": [
      "user_id,source,category\n",
      "1840e0b9d4,other,Продукты\n",
      "4e4f90fcfb,context,Электроника\n"
     ]
    }
   ],
   "source": [
    "import csv\n",
    "\n",
    "# Построчная обработка visit_log.csv и создание funnel.csv\n",
    "with open('visit_log.csv', 'r', encoding='utf-8') as visit_log, open('funnel.csv', 'w', encoding='utf-8', newline='') as funnel_file:\n",
    "    reader = csv.reader(visit_log)\n",
    "    writer = csv.writer(funnel_file)\n",
    "\n",
    "    # Запись заголовка в funnel.csv\n",
    "    writer.writerow(['user_id', 'source', 'category'])\n",
    "\n",
    "    # Пропускаем заголовок в visit_log.csv\n",
    "    next(reader)\n",
    "\n",
    "    # Построчная обработка и запись строк с покупками\n",
    "    for row in reader:\n",
    "        user_id, source = row[0], row[1]\n",
    "        if user_id in purchases:\n",
    "            writer.writerow([user_id, source, purchases[user_id]])\n",
    "\n",
    "# Проверка первых строк funnel.csv\n",
    "with open('funnel.csv', 'r', encoding='utf-8') as funnel_file:\n",
    "    for _ in range(3):\n",
    "        print(funnel_file.readline().strip())"
   ]
  }
 ],
 "metadata": {
  "kernelspec": {
   "display_name": "base",
   "language": "python",
   "name": "python3"
  },
  "language_info": {
   "codemirror_mode": {
    "name": "ipython",
    "version": 3
   },
   "file_extension": ".py",
   "mimetype": "text/x-python",
   "name": "python",
   "nbconvert_exporter": "python",
   "pygments_lexer": "ipython3",
   "version": "3.12.7"
  }
 },
 "nbformat": 4,
 "nbformat_minor": 2
}
